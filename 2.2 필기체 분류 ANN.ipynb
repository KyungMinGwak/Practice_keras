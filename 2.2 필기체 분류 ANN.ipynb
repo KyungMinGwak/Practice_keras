{
 "cells": [
  {
   "cell_type": "code",
   "execution_count": 1,
   "metadata": {},
   "outputs": [
    {
     "name": "stderr",
     "output_type": "stream",
     "text": [
      "Using TensorFlow backend.\n"
     ]
    }
   ],
   "source": [
    "#분류 ANN을 위한 인공지능 모델 구현\n",
    "from keras import layers, models"
   ]
  },
  {
   "cell_type": "code",
   "execution_count": 2,
   "metadata": {},
   "outputs": [],
   "source": [
    "#분산 방식 모델링을 포함하는 함수형 구현\n",
    "class ANN_models_class(models.Model):\n",
    "    def __init__(self, Nin, Nh, Nout):\n",
    "        #Prepare network layers and activate functions\n",
    "        hidden = layers.Dense(Nh)\n",
    "        output = layers.Dense(Nout)\n",
    "        relu = layers.Activation('relu')\n",
    "        softmax = layers.Activation('softmax')\n",
    "        \n",
    "        # Connect network elements\n",
    "        x = layers.Input(shape=(Nin,))\n",
    "        h = relu(hidden(x))\n",
    "        y = softmax(output(h))\n",
    "        \n",
    "        super().__init__(x,y)\n",
    "        self.compile(loss='categorical_crossentropy',\n",
    "                    optimizer='adam',\n",
    "                    metrics=['accuracy'])"
   ]
  },
  {
   "cell_type": "code",
   "execution_count": 3,
   "metadata": {},
   "outputs": [],
   "source": [
    "#분류 ANN에 사용할 데이터 불러오기\n",
    "\n",
    "import numpy as np\n",
    "from keras import datasets #mnist\n",
    "from keras.utils import np_utils\n",
    "\n",
    "def Data_func():\n",
    "    (X_train, y_train), (X_test, y_test) = datasets.mnist.load_data()\n",
    "    \n",
    "    Y_train = np_utils.to_categorical(y_train) # 1,2,3 .... 8,9 가 아닌 벡터값으로 바꾸어 계산을 용이하고 빠르게 ex 000001,000011\n",
    "    Y_test = np_utils.to_categorical(y_test)\n",
    "    \n",
    "    \n",
    "    L, W, H = X_train.shape\n",
    "    X_train = X_train.reshape(-1,W*H) # 한줄의 784 벡터값으로 변환\n",
    "    X_test = X_test.reshape(-1,W*H)\n",
    "    \n",
    "    X_train = X_train / 255.0  # 0~255 사이의 정수값으로 입력된 값을( 이미지 값이기 때문에 ) 255로 나누어 0~1 사이의 실수로 바꾸어 준다\n",
    "    X_test = X_test / 255.0\n",
    "    \n",
    "    return (X_train,Y_train), (X_test, Y_test)"
   ]
  },
  {
   "cell_type": "code",
   "execution_count": 4,
   "metadata": {},
   "outputs": [],
   "source": [
    "# 함수의 accuracy와 loss를 시각화 해줄 plot 함수 구현\n",
    "\n",
    "import matplotlib.pyplot as plt\n",
    "\n",
    "\n",
    "def plot_loss(history):\n",
    "#summarize history for loss\n",
    "    plt.plot(history.history['loss'])\n",
    "    plt.plot(history.history['val_loss'])\n",
    "    plt.title('Model Loss')\n",
    "    plt.ylabel('Loss')\n",
    "    plt.xlabel('Epoch')\n",
    "    plt.legend(['Train','Test'],loc=0)\n",
    "    \n",
    "def plot_acc(history):\n",
    "    plt.plot(history.history['acc'])\n",
    "    plt.plot(history.history['val_acc'])\n",
    "    plt.title('Model accuracy')\n",
    "    plt.ylabel('Accuracy')\n",
    "    plt.xlabel('Epoch')\n",
    "    plt.legend(['Train','Test'],loc=0)"
   ]
  },
  {
   "cell_type": "code",
   "execution_count": 5,
   "metadata": {},
   "outputs": [
    {
     "name": "stdout",
     "output_type": "stream",
     "text": [
      "WARNING:tensorflow:From C:\\Users\\Administrator\\Anaconda3\\lib\\site-packages\\tensorflow\\python\\framework\\op_def_library.py:263: colocate_with (from tensorflow.python.framework.ops) is deprecated and will be removed in a future version.\n",
      "Instructions for updating:\n",
      "Colocations handled automatically by placer.\n",
      "WARNING:tensorflow:From C:\\Users\\Administrator\\Anaconda3\\lib\\site-packages\\tensorflow\\python\\ops\\math_ops.py:3066: to_int32 (from tensorflow.python.ops.math_ops) is deprecated and will be removed in a future version.\n",
      "Instructions for updating:\n",
      "Use tf.cast instead.\n",
      "Train on 48000 samples, validate on 12000 samples\n",
      "Epoch 1/15\n",
      "48000/48000 [==============================] - 3s 55us/step - loss: 0.3859 - acc: 0.8933 - val_loss: 0.2064 - val_acc: 0.9431\n",
      "Epoch 2/15\n",
      "48000/48000 [==============================] - 1s 25us/step - loss: 0.1850 - acc: 0.9474 - val_loss: 0.1579 - val_acc: 0.9568\n",
      "Epoch 3/15\n",
      "48000/48000 [==============================] - 1s 24us/step - loss: 0.1341 - acc: 0.9619 - val_loss: 0.1301 - val_acc: 0.9635\n",
      "Epoch 4/15\n",
      "48000/48000 [==============================] - 1s 26us/step - loss: 0.1050 - acc: 0.9703 - val_loss: 0.1145 - val_acc: 0.9672\n",
      "Epoch 5/15\n",
      "48000/48000 [==============================] - 1s 26us/step - loss: 0.0846 - acc: 0.9755 - val_loss: 0.1102 - val_acc: 0.9684\n",
      "Epoch 6/15\n",
      "48000/48000 [==============================] - 1s 25us/step - loss: 0.0706 - acc: 0.9801 - val_loss: 0.1005 - val_acc: 0.9701\n",
      "Epoch 7/15\n",
      "48000/48000 [==============================] - 1s 25us/step - loss: 0.0599 - acc: 0.9830 - val_loss: 0.0953 - val_acc: 0.9714\n",
      "Epoch 8/15\n",
      "48000/48000 [==============================] - 1s 25us/step - loss: 0.0506 - acc: 0.9857 - val_loss: 0.0928 - val_acc: 0.9728\n",
      "Epoch 9/15\n",
      "48000/48000 [==============================] - 1s 25us/step - loss: 0.0427 - acc: 0.9887 - val_loss: 0.0876 - val_acc: 0.9730\n",
      "Epoch 10/15\n",
      "48000/48000 [==============================] - 1s 24us/step - loss: 0.0371 - acc: 0.9905 - val_loss: 0.0904 - val_acc: 0.9727\n",
      "Epoch 11/15\n",
      "48000/48000 [==============================] - 1s 24us/step - loss: 0.0322 - acc: 0.9916 - val_loss: 0.0908 - val_acc: 0.9739\n",
      "Epoch 12/15\n",
      "48000/48000 [==============================] - 1s 25us/step - loss: 0.0272 - acc: 0.9933 - val_loss: 0.0882 - val_acc: 0.9753\n",
      "Epoch 13/15\n",
      "48000/48000 [==============================] - 1s 24us/step - loss: 0.0240 - acc: 0.9939 - val_loss: 0.0975 - val_acc: 0.9719\n",
      "Epoch 14/15\n",
      "48000/48000 [==============================] - 1s 24us/step - loss: 0.0204 - acc: 0.9952 - val_loss: 0.0894 - val_acc: 0.9748\n",
      "Epoch 15/15\n",
      "48000/48000 [==============================] - 1s 25us/step - loss: 0.0175 - acc: 0.9959 - val_loss: 0.0928 - val_acc: 0.9732\n",
      "10000/10000 [==============================] - 0s 11us/step\n",
      "Test Loss and Accuracy -> [0.08444865729470621, 0.9749000054597855]\n"
     ]
    },
    {
     "data": {
      "image/png": "[encoded data removed]",
      "text/plain": [
       "<Figure size 432x288 with 1 Axes>"
      ]
     },
     "metadata": {
      "needs_background": "light"
     },
     "output_type": "display_data"
    },
    {
     "data": {
      "image/png": "[encoded data removed]",
      "text/plain": [
       "<Figure size 432x288 with 1 Axes>"
      ]
     },
     "metadata": {
      "needs_background": "light"
     },
     "output_type": "display_data"
    }
   ],
   "source": [
    "def main():\n",
    "    Nin = 784 #필기체 input의 백터\n",
    "    Nh = 100 #은닉 노드의 개수\n",
    "    number_of_class = 10 # 필기체 output의 클래스 개수\n",
    "    Nout = number_of_class\n",
    "    \n",
    "    model = ANN_models_class(Nin,Nh,Nout)\n",
    "    (X_train, Y_train), (X_test, Y_test) = Data_func()\n",
    "    \n",
    "    history = model.fit(X_train,Y_train, epochs=15,\n",
    "                       batch_size = 100, validation_split=0.2)\n",
    "    performance_test = model.evaluate(X_test, Y_test, batch_size = 100)\n",
    "    print('Test Loss and Accuracy ->',performance_test)\n",
    "    \n",
    "    plot_loss(history)\n",
    "    plt.show()\n",
    "    plot_acc(history)\n",
    "    plt.show()\n",
    "    \n",
    "    \n",
    "#Run cde\n",
    "\n",
    "if __name__ == '__main__':\n",
    "    main()"
   ]
  }
 ],
 "metadata": {
  "kernelspec": {
   "display_name": "Python 3",
   "language": "python",
   "name": "python3"
  },
  "language_info": {
   "codemirror_mode": {
    "name": "ipython",
    "version": 3
   },
   "file_extension": ".py",
   "mimetype": "text/x-python",
   "name": "python",
   "nbconvert_exporter": "python",
   "pygments_lexer": "ipython3",
   "version": "3.6.8"
  }
 },
 "nbformat": 4,
 "nbformat_minor": 2
}

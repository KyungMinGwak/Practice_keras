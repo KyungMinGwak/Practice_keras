{
 "cells": [
  {
   "cell_type": "code",
   "execution_count": 1,
   "metadata": {},
   "outputs": [],
   "source": [
    "#파라미터 정의\n",
    "\n",
    "Nin = 784       # number of input\n",
    "Nh_1 = [100,50] # number of hidden layer 1,2\n",
    "number_of_class = 10 # 1,2,3,4,5,6,7,8,9,0\n",
    "Nout = number_of_class"
   ]
  },
  {
   "cell_type": "code",
   "execution_count": 6,
   "metadata": {},
   "outputs": [],
   "source": [
    "#Plotting 함수 정의\n",
    "\n",
    "import matplotlib.pyplot as plt\n",
    "\n",
    "def plot_acc(history, title=None):\n",
    "    # summarize history for accuracy\n",
    "    if not isinstance(history, dict):\n",
    "        history = history.history\n",
    "\n",
    "    plt.plot(history['acc'])\n",
    "    plt.plot(history['val_acc'])\n",
    "    if title is not None:\n",
    "        plt.title(title)\n",
    "    plt.ylabel('Accuracy')\n",
    "    plt.xlabel('Epoch')\n",
    "    plt.legend(['Training', 'Verification'], loc=0)\n",
    "    # plt.show()\n",
    "\n",
    "\n",
    "def plot_loss(history, title=None):\n",
    "    # summarize history for loss\n",
    "    if not isinstance(history, dict):\n",
    "        history = history.history\n",
    "\n",
    "    plt.plot(history['loss'])\n",
    "    plt.plot(history['val_loss'])\n",
    "    if title is not None:\n",
    "        plt.title(title)\n",
    "    plt.ylabel('Loss')\n",
    "    plt.xlabel('Epoch')\n",
    "    plt.legend(['Training', 'Verification'], loc=0)\n",
    "    # plt.show()"
   ]
  },
  {
   "cell_type": "code",
   "execution_count": 2,
   "metadata": {},
   "outputs": [
    {
     "name": "stderr",
     "output_type": "stream",
     "text": [
      "C:\\Users\\Administrator\\Anaconda3\\lib\\site-packages\\h5py\\__init__.py:36: FutureWarning: Conversion of the second argument of issubdtype from `float` to `np.floating` is deprecated. In future, it will be treated as `np.float64 == np.dtype(float).type`.\n",
      "  from ._conv import register_converters as _register_converters\n",
      "Using TensorFlow backend.\n"
     ]
    }
   ],
   "source": [
    "# 분류 DNN 모델 구현 ########################\n",
    "from keras import layers, models\n",
    "\n",
    "class DNN(models.Sequential):\n",
    "    def __init__(self,Nin,Nh_1,Nout):\n",
    "        super().__init__()\n",
    "        self.add(layers.Dense(Nh_1[0], activation = 'relu',\n",
    "                             input_shape = (Nin,), name = 'Hidden-1'))\n",
    "        self.add(layers.Dropout(0.2))                                 #1st hidden layer, included dropout \n",
    "        \n",
    "        self.add(layers.Dense(Nh_1[1],activation = 'relu', name = 'Hidden-2'))\n",
    "        self.add(layers.Dropout(0.2))                                 #2nd hidden layer, included dropout \n",
    "        \n",
    "        self.add(layers.Dense(Nout,activation = 'softmax'))           #output layer, softmax was used\n",
    "        \n",
    "        self.compile(loss = 'categorical_crossentropy',              # set compiler\n",
    "                    optimizer='adam',\n",
    "                    metrics=['accuracy'])"
   ]
  },
  {
   "cell_type": "code",
   "execution_count": 3,
   "metadata": {},
   "outputs": [],
   "source": [
    "# 데이터 준비\n",
    "import numpy as np\n",
    "from keras import datasets\n",
    "from keras.utils import np_utils\n",
    "(x_train, y_train), (x_test, y_test) = datasets.mnist.load_data()\n",
    "\n",
    "y_train = np_utils.to_categorical(y_train)\n",
    "y_test = np_utils.to_categorical(y_test)\n",
    "\n",
    "L, W, H = x_train.shape\n",
    "\n",
    "x_train = x_train.reshape(-1,W*H)\n",
    "x_test = x_test.reshape(-1,W*H)\n",
    "x_train = x_train / 255.0\n",
    "x_test = x_test / 255.0\n"
   ]
  },
  {
   "cell_type": "code",
   "execution_count": 5,
   "metadata": {
    "scrolled": true
   },
   "outputs": [
    {
     "name": "stdout",
     "output_type": "stream",
     "text": [
      "Train on 48000 samples, validate on 12000 samples\n",
      "Epoch 1/10\n",
      "48000/48000 [==============================] - 2s 50us/step - loss: 0.5253 - acc: 0.8436 - val_loss: 0.1920 - val_acc: 0.9453\n",
      "Epoch 2/10\n",
      "48000/48000 [==============================] - 2s 38us/step - loss: 0.2361 - acc: 0.9313 - val_loss: 0.1470 - val_acc: 0.9567\n",
      "Epoch 3/10\n",
      "48000/48000 [==============================] - 2s 35us/step - loss: 0.1814 - acc: 0.9473 - val_loss: 0.1204 - val_acc: 0.9651\n",
      "Epoch 4/10\n",
      "48000/48000 [==============================] - 2s 35us/step - loss: 0.1517 - acc: 0.9550 - val_loss: 0.1106 - val_acc: 0.9669\n",
      "Epoch 5/10\n",
      "48000/48000 [==============================] - 2s 35us/step - loss: 0.1330 - acc: 0.9599 - val_loss: 0.1016 - val_acc: 0.9698\n",
      "Epoch 6/10\n",
      "48000/48000 [==============================] - 2s 35us/step - loss: 0.1190 - acc: 0.9640 - val_loss: 0.0910 - val_acc: 0.9738\n",
      "Epoch 7/10\n",
      "48000/48000 [==============================] - 2s 35us/step - loss: 0.1085 - acc: 0.9668 - val_loss: 0.0922 - val_acc: 0.9721\n",
      "Epoch 8/10\n",
      "48000/48000 [==============================] - 2s 35us/step - loss: 0.0984 - acc: 0.9694 - val_loss: 0.0959 - val_acc: 0.9745\n",
      "Epoch 9/10\n",
      "48000/48000 [==============================] - 2s 35us/step - loss: 0.0906 - acc: 0.9719 - val_loss: 0.0936 - val_acc: 0.9743\n",
      "Epoch 10/10\n",
      "48000/48000 [==============================] - 2s 35us/step - loss: 0.0848 - acc: 0.9738 - val_loss: 0.0968 - val_acc: 0.9736\n",
      "10000/10000 [==============================] - 0s 13us/step\n",
      "Test Loss and Accuracy -->  [0.08906348196411272, 0.973200005888939]\n"
     ]
    }
   ],
   "source": [
    "# 분류 DNN 학습 및 성능 평가\n",
    "model = DNN(Nin,Nh_1,Nout)\n",
    "history = model.fit(x_train,y_train, epochs = 10, batch_size=100,\n",
    "                   validation_split=0.2)\n",
    "performance_test = model.evaluate(x_test,y_test,batch_size = 100)\n",
    "print(\"Test Loss and Accuracy --> \",performance_test)"
   ]
  },
  {
   "cell_type": "code",
   "execution_count": 15,
   "metadata": {},
   "outputs": [
    {
     "data": {
      "image/png": "[encoded data removed]",
      "text/plain": [
       "<Figure size 432x288 with 1 Axes>"
      ]
     },
     "metadata": {},
     "output_type": "display_data"
    }
   ],
   "source": [
    "#plot_acc(history,'Accuracy')\n",
    "plot_loss(history,'Loss')\n",
    "plt.show()\n"
   ]
  }
 ],
 "metadata": {
  "kernelspec": {
   "display_name": "Python 3",
   "language": "python",
   "name": "python3"
  },
  "language_info": {
   "codemirror_mode": {
    "name": "ipython",
    "version": 3
   },
   "file_extension": ".py",
   "mimetype": "text/x-python",
   "name": "python",
   "nbconvert_exporter": "python",
   "pygments_lexer": "ipython3",
   "version": "3.6.8"
  }
 },
 "nbformat": 4,
 "nbformat_minor": 2
}
